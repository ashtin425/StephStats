{
 "cells": [
  {
   "cell_type": "code",
   "execution_count": 3,
   "id": "53fd647d",
   "metadata": {},
   "outputs": [],
   "source": [
    "# So for this project I really wanted to break down and look at NBA player Stephen Curry's 3 point shooting averages over\n",
    "# the course of his career. As of 1/19/2022, Steph is in what seems to be a career low shooting slump. However I wanted\n",
    "# to get a bit more context as to what counts as a shooting slump for who most people call 'the best shooter in nba history'.\n",
    "# Knowing this I took a dataset from kaggle with all his career statistics and broke them down into average monthly career \n",
    "# 3P%, and monthly 3P% per year to see if Steph has had any other significant slumps throughout his lengthy career. I\n",
    "# created several variables for this project, all which wont be used for this current research but will probably be\n",
    "# revisited for future projects. Also the data set needed some edititing done in Microsoft Excel due to the fact the 'Date'\n",
    "# column was formatted in a way the didnt allow me to grab the information inside the column correctly. A full report will\n",
    "# soon follow this post.\n",
    "\n",
    "\n",
    "\n",
    "#importing libraries\n",
    "import pandas as pd\n",
    "import numpy as np\n",
    "from matplotlib import pyplot as plt\n",
    "import seaborn as sns"
   ]
  },
  {
   "cell_type": "code",
   "execution_count": 4,
   "id": "46149fa9",
   "metadata": {},
   "outputs": [
    {
     "data": {
      "text/html": [
       "<div>\n",
       "<style scoped>\n",
       "    .dataframe tbody tr th:only-of-type {\n",
       "        vertical-align: middle;\n",
       "    }\n",
       "\n",
       "    .dataframe tbody tr th {\n",
       "        vertical-align: top;\n",
       "    }\n",
       "\n",
       "    .dataframe thead th {\n",
       "        text-align: right;\n",
       "    }\n",
       "</style>\n",
       "<table border=\"1\" class=\"dataframe\">\n",
       "  <thead>\n",
       "    <tr style=\"text-align: right;\">\n",
       "      <th></th>\n",
       "      <th>Season_year</th>\n",
       "      <th>Season_div</th>\n",
       "      <th>Date</th>\n",
       "      <th>OPP</th>\n",
       "      <th>Result</th>\n",
       "      <th>T Score</th>\n",
       "      <th>O Score</th>\n",
       "      <th>MIN</th>\n",
       "      <th>FGM</th>\n",
       "      <th>FGA</th>\n",
       "      <th>...</th>\n",
       "      <th>FTM</th>\n",
       "      <th>FTA</th>\n",
       "      <th>FT%</th>\n",
       "      <th>REB</th>\n",
       "      <th>AST</th>\n",
       "      <th>BLK</th>\n",
       "      <th>STL</th>\n",
       "      <th>PF</th>\n",
       "      <th>TO</th>\n",
       "      <th>PTS</th>\n",
       "    </tr>\n",
       "  </thead>\n",
       "  <tbody>\n",
       "    <tr>\n",
       "      <th>0</th>\n",
       "      <td>2009-2010</td>\n",
       "      <td>Regular</td>\n",
       "      <td>Apr</td>\n",
       "      <td>POR</td>\n",
       "      <td>W</td>\n",
       "      <td>122</td>\n",
       "      <td>116</td>\n",
       "      <td>48</td>\n",
       "      <td>13</td>\n",
       "      <td>25</td>\n",
       "      <td>...</td>\n",
       "      <td>12</td>\n",
       "      <td>12</td>\n",
       "      <td>100.0</td>\n",
       "      <td>9</td>\n",
       "      <td>8</td>\n",
       "      <td>1</td>\n",
       "      <td>2</td>\n",
       "      <td>0</td>\n",
       "      <td>2</td>\n",
       "      <td>42</td>\n",
       "    </tr>\n",
       "    <tr>\n",
       "      <th>1</th>\n",
       "      <td>2009-2010</td>\n",
       "      <td>Regular</td>\n",
       "      <td>Apr</td>\n",
       "      <td>UTA</td>\n",
       "      <td>L</td>\n",
       "      <td>94</td>\n",
       "      <td>103</td>\n",
       "      <td>41</td>\n",
       "      <td>5</td>\n",
       "      <td>15</td>\n",
       "      <td>...</td>\n",
       "      <td>6</td>\n",
       "      <td>6</td>\n",
       "      <td>100.0</td>\n",
       "      <td>5</td>\n",
       "      <td>6</td>\n",
       "      <td>0</td>\n",
       "      <td>2</td>\n",
       "      <td>4</td>\n",
       "      <td>2</td>\n",
       "      <td>17</td>\n",
       "    </tr>\n",
       "    <tr>\n",
       "      <th>2</th>\n",
       "      <td>2009-2010</td>\n",
       "      <td>Regular</td>\n",
       "      <td>Apr</td>\n",
       "      <td>OKC</td>\n",
       "      <td>W</td>\n",
       "      <td>120</td>\n",
       "      <td>117</td>\n",
       "      <td>35</td>\n",
       "      <td>9</td>\n",
       "      <td>16</td>\n",
       "      <td>...</td>\n",
       "      <td>4</td>\n",
       "      <td>6</td>\n",
       "      <td>66.7</td>\n",
       "      <td>7</td>\n",
       "      <td>7</td>\n",
       "      <td>0</td>\n",
       "      <td>1</td>\n",
       "      <td>2</td>\n",
       "      <td>5</td>\n",
       "      <td>25</td>\n",
       "    </tr>\n",
       "    <tr>\n",
       "      <th>3</th>\n",
       "      <td>2009-2010</td>\n",
       "      <td>Regular</td>\n",
       "      <td>Apr</td>\n",
       "      <td>LAC</td>\n",
       "      <td>L</td>\n",
       "      <td>104</td>\n",
       "      <td>107</td>\n",
       "      <td>41</td>\n",
       "      <td>10</td>\n",
       "      <td>19</td>\n",
       "      <td>...</td>\n",
       "      <td>4</td>\n",
       "      <td>4</td>\n",
       "      <td>100.0</td>\n",
       "      <td>9</td>\n",
       "      <td>4</td>\n",
       "      <td>0</td>\n",
       "      <td>3</td>\n",
       "      <td>5</td>\n",
       "      <td>3</td>\n",
       "      <td>29</td>\n",
       "    </tr>\n",
       "    <tr>\n",
       "      <th>4</th>\n",
       "      <td>2009-2010</td>\n",
       "      <td>Regular</td>\n",
       "      <td>Apr</td>\n",
       "      <td>MIN</td>\n",
       "      <td>W</td>\n",
       "      <td>116</td>\n",
       "      <td>107</td>\n",
       "      <td>44</td>\n",
       "      <td>12</td>\n",
       "      <td>22</td>\n",
       "      <td>...</td>\n",
       "      <td>0</td>\n",
       "      <td>0</td>\n",
       "      <td>0.0</td>\n",
       "      <td>8</td>\n",
       "      <td>14</td>\n",
       "      <td>0</td>\n",
       "      <td>7</td>\n",
       "      <td>4</td>\n",
       "      <td>4</td>\n",
       "      <td>27</td>\n",
       "    </tr>\n",
       "  </tbody>\n",
       "</table>\n",
       "<p>5 rows × 24 columns</p>\n",
       "</div>"
      ],
      "text/plain": [
       "  Season_year Season_div Date  OPP Result  T Score  O Score  MIN  FGM  FGA  \\\n",
       "0   2009-2010    Regular  Apr  POR      W      122      116   48   13   25   \n",
       "1   2009-2010    Regular  Apr  UTA      L       94      103   41    5   15   \n",
       "2   2009-2010    Regular  Apr  OKC      W      120      117   35    9   16   \n",
       "3   2009-2010    Regular  Apr  LAC      L      104      107   41   10   19   \n",
       "4   2009-2010    Regular  Apr  MIN      W      116      107   44   12   22   \n",
       "\n",
       "   ...  FTM  FTA    FT%  REB  AST  BLK  STL  PF  TO  PTS  \n",
       "0  ...   12   12  100.0    9    8    1    2   0   2   42  \n",
       "1  ...    6    6  100.0    5    6    0    2   4   2   17  \n",
       "2  ...    4    6   66.7    7    7    0    1   2   5   25  \n",
       "3  ...    4    4  100.0    9    4    0    3   5   3   29  \n",
       "4  ...    0    0    0.0    8   14    0    7   4   4   27  \n",
       "\n",
       "[5 rows x 24 columns]"
      ]
     },
     "execution_count": 4,
     "metadata": {},
     "output_type": "execute_result"
    }
   ],
   "source": [
    "#importing csv file\n",
    "df = pd.read_csv('Revised Stats 3.csv')\n",
    "df.head()"
   ]
  },
  {
   "cell_type": "code",
   "execution_count": 5,
   "id": "f94918ba",
   "metadata": {
    "scrolled": true
   },
   "outputs": [
    {
     "name": "stdout",
     "output_type": "stream",
     "text": [
      "<class 'pandas.core.frame.DataFrame'>\n",
      "RangeIndex: 761 entries, 0 to 760\n",
      "Data columns (total 24 columns):\n",
      " #   Column       Non-Null Count  Dtype  \n",
      "---  ------       --------------  -----  \n",
      " 0   Season_year  761 non-null    object \n",
      " 1   Season_div   761 non-null    object \n",
      " 2   Date         761 non-null    object \n",
      " 3   OPP          761 non-null    object \n",
      " 4   Result       761 non-null    object \n",
      " 5   T Score      761 non-null    int64  \n",
      " 6   O Score      761 non-null    int64  \n",
      " 7   MIN          761 non-null    int64  \n",
      " 8   FGM          761 non-null    int64  \n",
      " 9   FGA          761 non-null    int64  \n",
      " 10  FG%          761 non-null    float64\n",
      " 11  3PTM         761 non-null    int64  \n",
      " 12  3PTA         761 non-null    int64  \n",
      " 13  3P%          761 non-null    float64\n",
      " 14  FTM          761 non-null    int64  \n",
      " 15  FTA          761 non-null    int64  \n",
      " 16  FT%          761 non-null    float64\n",
      " 17  REB          761 non-null    int64  \n",
      " 18  AST          761 non-null    int64  \n",
      " 19  BLK          761 non-null    int64  \n",
      " 20  STL          761 non-null    int64  \n",
      " 21  PF           761 non-null    int64  \n",
      " 22  TO           761 non-null    int64  \n",
      " 23  PTS          761 non-null    int64  \n",
      "dtypes: float64(3), int64(16), object(5)\n",
      "memory usage: 142.8+ KB\n"
     ]
    }
   ],
   "source": [
    "#making sure datatypes match\n",
    "df.info()"
   ]
  },
  {
   "cell_type": "code",
   "execution_count": 6,
   "id": "c040ebb3",
   "metadata": {},
   "outputs": [],
   "source": [
    "#creating variables for each of Stephs seasons\n",
    "rookie = df[df.Season_year == '2009-2010']\n",
    "second_year = df[df.Season_year == '2010-2011']\n",
    "third_year = df[df.Season_year == '2011-2012']\n",
    "fourth_year = df[df.Season_year == '2012-2013']\n",
    "fifth_year = df[df.Season_year == '2013-2014']\n",
    "sixth_year = df[df.Season_year == '2014-2015']\n",
    "seventh_year = df[df.Season_year == '2015-2016']\n",
    "eigth_year = df[df.Season_year == '2017-2018']\n",
    "ninth_year = df[df.Season_year == '2018-2019']\n",
    "tenth_year = df[df.Season_year == '2019-2020']\n",
    "eleventh_year = df[df.Season_year == '2020-2021']"
   ]
  },
  {
   "cell_type": "code",
   "execution_count": 7,
   "id": "ead20630",
   "metadata": {},
   "outputs": [],
   "source": [
    "# creating variables for each years 3P%\n",
    "rook3pp = np.mean(rookie['3P%'])\n",
    "sec_yr3pp = np.mean(second_year['3P%'])\n",
    "third_yr3pp = np.mean(third_year['3P%'])\n",
    "four_yr3pp = np.mean(fourth_year['3P%'])\n",
    "fifth_yr3pp = np.mean(fifth_year['3P%'])\n",
    "sixth_yr3pp = np.mean(sixth_year['3P%'])\n",
    "sev_yr3pp = np.mean(seventh_year['3P%'])\n",
    "eighth_yr3pp = np.mean(eigth_year['3P%'])\n",
    "ninth_yrrook3pp = np.mean(ninth_year['3P%'])\n",
    "ten_yr3pp = np.mean(tenth_year['3P%'])\n",
    "elev_yr3pp = np.mean(eleventh_year['3P%'])"
   ]
  },
  {
   "cell_type": "code",
   "execution_count": 8,
   "id": "aa6eb1d7",
   "metadata": {},
   "outputs": [],
   "source": [
    "#creating variables for each month of Steph's roookie year\n",
    "Rookie_Oct_Games = df[(df['Date'] == 'Oct') & (df['Season_year'] == '2009-2010')]\n",
    "Rookie_Nov_Games = df[(df['Date'] == 'Nov') & (df['Season_year'] == '2009-2010')]\n",
    "Rookie_Dec_Games = df[(df['Date'] == 'Dec') & (df['Season_year'] == '2009-2010')]\n",
    "Rookie_Jan_Games = df[(df['Date'] == 'Jan') & (df['Season_year'] == '2009-2010')]\n",
    "Rookie_Feb_Games = df[(df['Date'] == 'Feb') & (df['Season_year'] == '2009-2010')]\n",
    "Rookie_Mar_Games = df[(df['Date'] == 'Mar') & (df['Season_year'] == '2009-2010')]\n",
    "Rookie_Apr_Games = df[(df['Date'] == 'Apr') & (df['Season_year'] == '2009-2010')]"
   ]
  },
  {
   "cell_type": "code",
   "execution_count": 9,
   "id": "9c76cf1a",
   "metadata": {},
   "outputs": [],
   "source": [
    "# creating variables for each month of Steph's sophmore year\n",
    "Sophmore_Oct_Games = df[(df['Date'] == 'Oct') & (df['Season_year'] == '2010-2011')]\n",
    "Sophmore_Nov_Games = df[(df['Date'] == 'Nov') & (df['Season_year'] == '2010-2011')]\n",
    "Sophmore_Dec_Games = df[(df['Date'] == 'Dec') & (df['Season_year'] == '2010-2011')]\n",
    "Sophmore_Jan_Games = df[(df['Date'] == 'Jan') & (df['Season_year'] == '2010-2011')]\n",
    "Sophmore_Feb_Games = df[(df['Date'] == 'Feb') & (df['Season_year'] == '2010-2011')]\n",
    "Sophmore_Mar_Games = df[(df['Date'] == 'Mar') & (df['Season_year'] == '2010-2011')]\n",
    "Sophmore_Apr_Games = df[(df['Date'] == 'Apr') & (df['Season_year'] == '2010-2011')]"
   ]
  },
  {
   "cell_type": "code",
   "execution_count": 10,
   "id": "caeedcd9",
   "metadata": {},
   "outputs": [],
   "source": [
    "# creating variables for each month of Steph's junior year\n",
    "Junior_Oct_Games = df[(df['Date'] == 'Oct') & (df['Season_year'] == '2011-2012')]\n",
    "Junior_Nov_Games = df[(df['Date'] == 'Nov') & (df['Season_year'] == '2011-2012')]\n",
    "Junior_Dec_Games = df[(df['Date'] == 'Dec') & (df['Season_year'] == '2011-2012')]\n",
    "Junior_Jan_Games = df[(df['Date'] == 'Jan') & (df['Season_year'] == '2011-2012')]\n",
    "Junior_Feb_Games = df[(df['Date'] == 'Feb') & (df['Season_year'] == '2011-2012')]\n",
    "Junior_Mar_Games = df[(df['Date'] == 'Mar') & (df['Season_year'] == '2011-2012')]\n",
    "Junior_Apr_Games = df[(df['Date'] == 'Apr') & (df['Season_year'] == '2011-2012')]"
   ]
  },
  {
   "cell_type": "code",
   "execution_count": 11,
   "id": "912c060c",
   "metadata": {},
   "outputs": [],
   "source": [
    "# creating variables for each month of Steph's year 4\n",
    "yr4_Oct_Games = df[(df['Date'] == 'Oct') & (df['Season_year'] == '2012-2013')]\n",
    "yr4_Nov_Games = df[(df['Date'] == 'Nov') & (df['Season_year'] == '2012-2013')]\n",
    "yr4_Dec_Games = df[(df['Date'] == 'Dec') & (df['Season_year'] == '2012-2013')]\n",
    "yr4_Jan_Games = df[(df['Date'] == 'Jan') & (df['Season_year'] == '2012-2013')]\n",
    "yr4_Feb_Games = df[(df['Date'] == 'Feb') & (df['Season_year'] == '2012-2013')]\n",
    "yr4_Mar_Games = df[(df['Date'] == 'Mar') & (df['Season_year'] == '2012-2013')]\n",
    "yr4_Apr_Games = df[(df['Date'] == 'Apr') & (df['Season_year'] == '2012-2013')]"
   ]
  },
  {
   "cell_type": "code",
   "execution_count": 12,
   "id": "9b0a4dc9",
   "metadata": {},
   "outputs": [],
   "source": [
    "# creating variables for each month of Steph's year 5\n",
    "yr5_Oct_Games = df[(df['Date'] == 'Oct') & (df['Season_year'] == '2013-2014')]\n",
    "yr5_Nov_Games = df[(df['Date'] == 'Nov') & (df['Season_year'] == '2013-2014')]\n",
    "yr5_Dec_Games = df[(df['Date'] == 'Dec') & (df['Season_year'] == '2013-2014')]\n",
    "yr5_Jan_Games = df[(df['Date'] == 'Jan') & (df['Season_year'] == '2013-2014')]\n",
    "yr5_Feb_Games = df[(df['Date'] == 'Feb') & (df['Season_year'] == '2013-2014')]\n",
    "yr5_Mar_Games = df[(df['Date'] == 'Mar') & (df['Season_year'] == '2013-2014')]\n",
    "yr5_Apr_Games = df[(df['Date'] == 'Apr') & (df['Season_year'] == '2013-2014')]"
   ]
  },
  {
   "cell_type": "code",
   "execution_count": 13,
   "id": "3a95d500",
   "metadata": {},
   "outputs": [],
   "source": [
    "# creating variables for each month of Steph's year 6\n",
    "yr6_Oct_Games = df[(df['Date'] == 'Oct') & (df['Season_year'] == '2014-2015')]\n",
    "yr6_Nov_Games = df[(df['Date'] == 'Nov') & (df['Season_year'] == '2014-2015')]\n",
    "yr6_Dec_Games = df[(df['Date'] == 'Dec') & (df['Season_year'] == '2014-2015')]\n",
    "yr6_Jan_Games = df[(df['Date'] == 'Jan') & (df['Season_year'] == '2014-2015')]\n",
    "yr6_Feb_Games = df[(df['Date'] == 'Feb') & (df['Season_year'] == '2014-2015')]\n",
    "yr6_Mar_Games = df[(df['Date'] == 'Mar') & (df['Season_year'] == '2014-2015')]\n",
    "yr6_Apr_Games = df[(df['Date'] == 'Apr') & (df['Season_year'] == '2014-2015')]"
   ]
  },
  {
   "cell_type": "code",
   "execution_count": 14,
   "id": "6341a189",
   "metadata": {},
   "outputs": [],
   "source": [
    "# creating variables for each month of Steph's year 7\n",
    "yr7_Oct_Games = df[(df['Date'] == 'Oct') & (df['Season_year'] == '2015-2016')]\n",
    "yr7_Nov_Games = df[(df['Date'] == 'Nov') & (df['Season_year'] == '2015-2016')]\n",
    "yr7_Dec_Games = df[(df['Date'] == 'Dec') & (df['Season_year'] == '2015-2016')]\n",
    "yr7_Jan_Games = df[(df['Date'] == 'Jan') & (df['Season_year'] == '2015-2016')]\n",
    "yr7_Feb_Games = df[(df['Date'] == 'Feb') & (df['Season_year'] == '2015-2016')]\n",
    "yr7_Mar_Games = df[(df['Date'] == 'Mar') & (df['Season_year'] == '2015-2016')]\n",
    "yr7_Apr_Games = df[(df['Date'] == 'Apr') & (df['Season_year'] == '2015-2016')]"
   ]
  },
  {
   "cell_type": "code",
   "execution_count": 15,
   "id": "e9dddc83",
   "metadata": {},
   "outputs": [],
   "source": [
    "# creating variables for each month of Steph's year 8\n",
    "yr8_Oct_Games = df[(df['Date'] == 'Oct') & (df['Season_year'] == '2016-2017')]\n",
    "yr8_Nov_Games = df[(df['Date'] == 'Nov') & (df['Season_year'] == '2016-2017')]\n",
    "yr8_Dec_Games = df[(df['Date'] == 'Dec') & (df['Season_year'] == '2016-2017')]\n",
    "yr8_Jan_Games = df[(df['Date'] == 'Jan') & (df['Season_year'] == '2016-2017')]\n",
    "yr8_Feb_Games = df[(df['Date'] == 'Feb') & (df['Season_year'] == '2016-2017')]\n",
    "yr8_Mar_Games = df[(df['Date'] == 'Mar') & (df['Season_year'] == '2016-2017')]\n",
    "yr8_Apr_Games = df[(df['Date'] == 'Apr') & (df['Season_year'] == '2016-2017')]"
   ]
  },
  {
   "cell_type": "code",
   "execution_count": 16,
   "id": "db4da3b4",
   "metadata": {},
   "outputs": [],
   "source": [
    "# creating variables for each month of Steph's year 9\n",
    "yr9_Oct_Games = df[(df['Date'] == 'Oct') & (df['Season_year'] == '2017-2018')]\n",
    "yr9_Nov_Games = df[(df['Date'] == 'Nov') & (df['Season_year'] == '2017-2018')]\n",
    "yr9_Dec_Games = df[(df['Date'] == 'Dec') & (df['Season_year'] == '2017-2018')]\n",
    "yr9_Jan_Games = df[(df['Date'] == 'Jan') & (df['Season_year'] == '2017-2018')]\n",
    "yr9_Feb_Games = df[(df['Date'] == 'Feb') & (df['Season_year'] == '2017-2018')]\n",
    "yr9_Mar_Games = df[(df['Date'] == 'Mar') & (df['Season_year'] == '2017-2018')]\n",
    "yr9_Apr_Games = df[(df['Date'] == 'Apr') & (df['Season_year'] == '2017-2018')]"
   ]
  },
  {
   "cell_type": "code",
   "execution_count": 17,
   "id": "b25f16da",
   "metadata": {},
   "outputs": [],
   "source": [
    "# creating variables for each month of Steph's year 10\n",
    "yr10_Oct_Games = df[(df['Date'] == 'Oct') & (df['Season_year'] == '2018-2019')]\n",
    "yr10_Nov_Games = df[(df['Date'] == 'Nov') & (df['Season_year'] == '2018-2019')]\n",
    "yr10_Dec_Games = df[(df['Date'] == 'Dec') & (df['Season_year'] == '2018-2019')]\n",
    "yr10_Jan_Games = df[(df['Date'] == 'Jan') & (df['Season_year'] == '2018-2019')]\n",
    "yr10_Feb_Games = df[(df['Date'] == 'Feb') & (df['Season_year'] == '2018-2019')]\n",
    "yr10_Mar_Games = df[(df['Date'] == 'Mar') & (df['Season_year'] == '2018-2019')]\n",
    "yr10_Apr_Games = df[(df['Date'] == 'Apr') & (df['Season_year'] == '2018-2019')]"
   ]
  },
  {
   "cell_type": "code",
   "execution_count": 18,
   "id": "bc479ca3",
   "metadata": {},
   "outputs": [],
   "source": [
    "# creating variables for each month of Steph's year 11 (the year he broke his hand)\n",
    "yr11_Oct_Games = df[(df['Date'] == 'Oct') & (df['Season_year'] == '2019-2020')]\n",
    "yr11_Nov_Games = df[(df['Date'] == 'Nov') & (df['Season_year'] == '2019-2020')]\n",
    "yr11_Dec_Games = df[(df['Date'] == 'Dec') & (df['Season_year'] == '2019-2020')]\n",
    "yr11_Jan_Games = df[(df['Date'] == 'Jan') & (df['Season_year'] == '2019-2020')]\n",
    "yr11_Feb_Games = df[(df['Date'] == 'Feb') & (df['Season_year'] == '2019-2020')]\n",
    "yr11_Mar_Games = df[(df['Date'] == 'Mar') & (df['Season_year'] == '2019-2020')]\n",
    "yr11_Apr_Games = df[(df['Date'] == 'Apr') & (df['Season_year'] == '2019-2020')]"
   ]
  },
  {
   "cell_type": "code",
   "execution_count": 19,
   "id": "0b94e053",
   "metadata": {},
   "outputs": [],
   "source": [
    "# creating variables for each month of Steph's year 12\n",
    "yr12_Oct_Games = df[(df['Date'] == 'Oct') & (df['Season_year'] == '2020-2021')]\n",
    "yr12_Nov_Games = df[(df['Date'] == 'Nov') & (df['Season_year'] == '2020-2021')]\n",
    "yr12_Dec_Games = df[(df['Date'] == 'Dec') & (df['Season_year'] == '2020-2021')]\n",
    "yr12_Jan_Games = df[(df['Date'] == 'Jan') & (df['Season_year'] == '2020-2021')]\n",
    "yr12_Feb_Games = df[(df['Date'] == 'Feb') & (df['Season_year'] == '2020-2021')]\n",
    "yr12_Mar_Games = df[(df['Date'] == 'Mar') & (df['Season_year'] == '2020-2021')]\n",
    "yr12_Apr_Games = df[(df['Date'] == 'Apr') & (df['Season_year'] == '2020-2021')]"
   ]
  },
  {
   "cell_type": "code",
   "execution_count": 20,
   "id": "a9e88bf1",
   "metadata": {},
   "outputs": [
    {
     "data": {
      "text/plain": [
       "41.01714285714286"
      ]
     },
     "execution_count": 20,
     "metadata": {},
     "output_type": "execute_result"
    }
   ],
   "source": [
    "# Creating variables for monthly 3 point percentage over career for each month\n",
    "# October average\n",
    "October = df[df['Date'] == 'Oct']\n",
    "Oct_Per = np.mean(October['3P%'])\n",
    "Oct_Per"
   ]
  },
  {
   "cell_type": "code",
   "execution_count": 21,
   "id": "d564ddaa",
   "metadata": {},
   "outputs": [
    {
     "data": {
      "text/plain": [
       "39.833913043478276"
      ]
     },
     "execution_count": 21,
     "metadata": {},
     "output_type": "execute_result"
    }
   ],
   "source": [
    "# November Average\n",
    "November = df[df['Date'] == 'Nov']\n",
    "Nov_Per = np.mean(November['3P%'])\n",
    "Nov_Per"
   ]
  },
  {
   "cell_type": "code",
   "execution_count": 22,
   "id": "00915ff0",
   "metadata": {},
   "outputs": [
    {
     "data": {
      "text/plain": [
       "38.872131147541"
      ]
     },
     "execution_count": 22,
     "metadata": {},
     "output_type": "execute_result"
    }
   ],
   "source": [
    "# December Average\n",
    "December = df[df['Date'] == 'Dec']\n",
    "Dec_Per = np.mean(December['3P%'])\n",
    "Dec_Per"
   ]
  },
  {
   "cell_type": "code",
   "execution_count": 23,
   "id": "7e541012",
   "metadata": {},
   "outputs": [
    {
     "data": {
      "text/plain": [
       "41.01714285714286"
      ]
     },
     "execution_count": 23,
     "metadata": {},
     "output_type": "execute_result"
    }
   ],
   "source": [
    "# January Average\n",
    "January = df[df['Date'] == 'Jan']\n",
    "Jan_Per = np.mean(January['3P%'])\n",
    "Oct_Per"
   ]
  },
  {
   "cell_type": "code",
   "execution_count": 24,
   "id": "cc0b6883",
   "metadata": {},
   "outputs": [
    {
     "data": {
      "text/plain": [
       "41.70640000000001"
      ]
     },
     "execution_count": 24,
     "metadata": {},
     "output_type": "execute_result"
    }
   ],
   "source": [
    "# February Average\n",
    "February = df[df['Date'] == 'Feb']\n",
    "Feb_Per = np.mean(February['3P%'])\n",
    "Feb_Per"
   ]
  },
  {
   "cell_type": "code",
   "execution_count": 25,
   "id": "18cfef3a",
   "metadata": {},
   "outputs": [
    {
     "data": {
      "text/plain": [
       "43.55507246376811"
      ]
     },
     "execution_count": 25,
     "metadata": {},
     "output_type": "execute_result"
    }
   ],
   "source": [
    "# March Average\n",
    "March = df[df['Date'] == 'Mar']\n",
    "Mar_Per = np.mean(March['3P%'])\n",
    "Mar_Per"
   ]
  },
  {
   "cell_type": "code",
   "execution_count": 26,
   "id": "174ed90d",
   "metadata": {},
   "outputs": [
    {
     "data": {
      "text/plain": [
       "46.79285714285715"
      ]
     },
     "execution_count": 26,
     "metadata": {},
     "output_type": "execute_result"
    }
   ],
   "source": [
    "# April Average\n",
    "April = df[df['Date'] == 'Apr']\n",
    "Apr_Per = np.mean(April['3P%'])\n",
    "Apr_Per"
   ]
  },
  {
   "cell_type": "code",
   "execution_count": 27,
   "id": "e77a87c7",
   "metadata": {},
   "outputs": [
    {
     "data": {
      "text/plain": [
       "45.9"
      ]
     },
     "execution_count": 27,
     "metadata": {},
     "output_type": "execute_result"
    }
   ],
   "source": [
    "#Rookie_Oct_Games['3P%'].mean() # 1st year 3 point percentage\n",
    "#Rookie_Nov_Games['3P%'].mean()\n",
    "#Rookie_Dec_Games['3P%'].mean()\n",
    "#Rookie_Jan_Games['3P%'].mean()\n",
    "#Rookie_Feb_Games['3P%'].mean()\n",
    "#Rookie_Mar_Games['3P%'].mean()\n",
    "Rookie_Apr_Games['3P%'].mean()"
   ]
  },
  {
   "cell_type": "code",
   "execution_count": 28,
   "id": "3519eca7",
   "metadata": {},
   "outputs": [
    {
     "data": {
      "text/plain": [
       "50.26666666666667"
      ]
     },
     "execution_count": 28,
     "metadata": {},
     "output_type": "execute_result"
    }
   ],
   "source": [
    "#Sophmore_Oct_Games['3P%'].mean() # 2nd year 3 point percentage\n",
    "#Sophmore_Nov_Games['3P%'].mean()\n",
    "#Sophmore_Dec_Games['3P%'].mean()\n",
    "#Sophmore_Jan_Games['3P%'].mean()\n",
    "#Sophmore_Feb_Games['3P%'].mean()\n",
    "#Sophmore_Mar_Games['3P%'].mean()\n",
    "Sophmore_Apr_Games['3P%'].mean()"
   ]
  },
  {
   "cell_type": "code",
   "execution_count": 29,
   "id": "42aae0ab",
   "metadata": {},
   "outputs": [
    {
     "data": {
      "text/plain": [
       "nan"
      ]
     },
     "execution_count": 29,
     "metadata": {},
     "output_type": "execute_result"
    }
   ],
   "source": [
    "#Junior_Oct_Games['3P%'].mean() # 3rd year 3 point percentage (Didnt play due to ankle injuries)\n",
    "#Junior_Nov_Games['3P%'].mean()\n",
    "#Junior_Dec_Games['3P%'].mean()\n",
    "#Junior_Jan_Games['3P%'].mean()\n",
    "#Junior_Feb_Games['3P%'].mean()\n",
    "#Junior_Mar_Games['3P%'].mean()\n",
    "Junior_Apr_Games['3P%'].mean()"
   ]
  },
  {
   "cell_type": "code",
   "execution_count": 30,
   "id": "9936aeff",
   "metadata": {},
   "outputs": [
    {
     "data": {
      "text/plain": [
       "43.037499999999994"
      ]
     },
     "execution_count": 30,
     "metadata": {},
     "output_type": "execute_result"
    }
   ],
   "source": [
    "#yr4_Oct_Games['3P%'].mean() # 4th year 3 point percentage (Only played 1 game in Oct.)\n",
    "#yr4_Nov_Games['3P%'].mean()\n",
    "#yr4_Dec_Games['3P%'].mean()\n",
    "#yr4_Jan_Games['3P%'].mean()\n",
    "#yr4_Feb_Games['3P%'].mean()\n",
    "#yr4_Mar_Games['3P%'].mean()\n",
    "yr4_Apr_Games['3P%'].mean()"
   ]
  },
  {
   "cell_type": "code",
   "execution_count": 31,
   "id": "3cd765aa",
   "metadata": {},
   "outputs": [
    {
     "data": {
      "text/plain": [
       "45.6125"
      ]
     },
     "execution_count": 31,
     "metadata": {},
     "output_type": "execute_result"
    }
   ],
   "source": [
    "#yr5_Oct_Games['3P%'].mean() # 5th year 3 point percentage\n",
    "#yr5_Nov_Games['3P%'].mean()\n",
    "#yr5_Dec_Games['3P%'].mean()\n",
    "#yr5_Jan_Games['3P%'].mean()\n",
    "#yr5_Feb_Games['3P%'].mean()\n",
    "#yr5_Mar_Games['3P%'].mean()\n",
    "yr5_Apr_Games['3P%'].mean()"
   ]
  },
  {
   "cell_type": "code",
   "execution_count": 32,
   "id": "f72b8e12",
   "metadata": {},
   "outputs": [
    {
     "data": {
      "text/plain": [
       "49.875"
      ]
     },
     "execution_count": 32,
     "metadata": {},
     "output_type": "execute_result"
    }
   ],
   "source": [
    "#yr6_Oct_Games['3P%'].mean() # 6th year 3 point percentage\n",
    "#yr6_Nov_Games['3P%'].mean()\n",
    "#yr6_Dec_Games['3P%'].mean()\n",
    "#yr6_Jan_Games['3P%'].mean()\n",
    "#yr6_Feb_Games['3P%'].mean()\n",
    "#yr6_Mar_Games['3P%'].mean()\n",
    "yr6_Apr_Games['3P%'].mean()"
   ]
  },
  {
   "cell_type": "code",
   "execution_count": 33,
   "id": "a422be60",
   "metadata": {},
   "outputs": [
    {
     "data": {
      "text/plain": [
       "45.17142857142858"
      ]
     },
     "execution_count": 33,
     "metadata": {},
     "output_type": "execute_result"
    }
   ],
   "source": [
    "#yr7_Oct_Games['3P%'].mean() # 7th year 3 point percentage\n",
    "#yr7_Nov_Games['3P%'].mean()\n",
    "#yr7_Dec_Games['3P%'].mean()\n",
    "#yr7_Jan_Games['3P%'].mean()\n",
    "#yr7_Feb_Games['3P%'].mean()\n",
    "#yr7_Mar_Games['3P%'].mean()\n",
    "yr7_Apr_Games['3P%'].mean()"
   ]
  },
  {
   "cell_type": "code",
   "execution_count": 34,
   "id": "dd605cd1",
   "metadata": {},
   "outputs": [
    {
     "data": {
      "text/plain": [
       "55.839999999999996"
      ]
     },
     "execution_count": 34,
     "metadata": {},
     "output_type": "execute_result"
    }
   ],
   "source": [
    "#yr8_Oct_Games['3P%'].mean() # 8th year 3 point percentage\n",
    "#yr8_Nov_Games['3P%'].mean()\n",
    "#yr8_Dec_Games['3P%'].mean()\n",
    "#yr8_Jan_Games['3P%'].mean()\n",
    "#yr8_Feb_Games['3P%'].mean()\n",
    "#yr8_Mar_Games['3P%'].mean()\n",
    "yr8_Apr_Games['3P%'].mean()"
   ]
  },
  {
   "cell_type": "code",
   "execution_count": 35,
   "id": "768416df",
   "metadata": {},
   "outputs": [
    {
     "data": {
      "text/plain": [
       "nan"
      ]
     },
     "execution_count": 35,
     "metadata": {},
     "output_type": "execute_result"
    }
   ],
   "source": [
    "#yr9_Oct_Games['3P%'].mean() # 9th year 3 point percentage\n",
    "#yr9_Nov_Games['3P%'].mean()\n",
    "#yr9_Dec_Games['3P%'].mean()\n",
    "#yr9_Jan_Games['3P%'].mean()\n",
    "#yr9_Feb_Games['3P%'].mean()\n",
    "#yr9_Mar_Games['3P%'].mean()\n",
    "yr9_Apr_Games['3P%'].mean()"
   ]
  },
  {
   "cell_type": "code",
   "execution_count": 36,
   "id": "9e875601",
   "metadata": {},
   "outputs": [
    {
     "data": {
      "text/plain": [
       "43.22"
      ]
     },
     "execution_count": 36,
     "metadata": {},
     "output_type": "execute_result"
    }
   ],
   "source": [
    "#yr10_Oct_Games['3P%'].mean() # 10th year 3 point percentage\n",
    "#yr10_Nov_Games['3P%'].mean()\n",
    "#yr10_Dec_Games['3P%'].mean()\n",
    "#yr10_Jan_Games['3P%'].mean()\n",
    "#yr10_Feb_Games['3P%'].mean()\n",
    "#yr10_Mar_Games['3P%'].mean()\n",
    "yr10_Apr_Games['3P%'].mean()"
   ]
  },
  {
   "cell_type": "code",
   "execution_count": 37,
   "id": "200a213f",
   "metadata": {},
   "outputs": [
    {
     "data": {
      "text/plain": [
       "nan"
      ]
     },
     "execution_count": 37,
     "metadata": {},
     "output_type": "execute_result"
    }
   ],
   "source": [
    "#yr11_Oct_Games['3P%'].mean() # 11th year 3 point percentage (year steph broke his hand)\n",
    "#yr11_Nov_Games['3P%'].mean()\n",
    "#yr11_Dec_Games['3P%'].mean()\n",
    "#yr11_Jan_Games['3P%'].mean()\n",
    "#yr11_Feb_Games['3P%'].mean()\n",
    "#yr11_Mar_Games['3P%'].mean()\n",
    "yr11_Apr_Games['3P%'].mean()"
   ]
  },
  {
   "cell_type": "code",
   "execution_count": 38,
   "id": "fb092515",
   "metadata": {},
   "outputs": [
    {
     "data": {
      "text/plain": [
       "45.800000000000004"
      ]
     },
     "execution_count": 38,
     "metadata": {},
     "output_type": "execute_result"
    }
   ],
   "source": [
    "#yr12_Oct_Games['3P%'].mean() # 12th year 3 point percentage (Season didnt start until Dec)\n",
    "#yr12_Nov_Games['3P%'].mean()\n",
    "#yr12_Dec_Games['3P%'].mean()\n",
    "#yr12_Jan_Games['3P%'].mean()\n",
    "#yr12_Feb_Games['3P%'].mean()\n",
    "#yr12_Mar_Games['3P%'].mean()\n",
    "yr12_Apr_Games['3P%'].mean()"
   ]
  },
  {
   "cell_type": "code",
   "execution_count": 39,
   "id": "d5f237d1",
   "metadata": {},
   "outputs": [],
   "source": [
    "# Creating a list of career percentages in Oct. (Didnt include year 3, 4, & 12 in some instances due to injuries\n",
    "# and pandemic season )\n",
    "\n",
    "Career_Oct_Percentage = [33.35, 41.65, 52.15, 22.2, 47.33, 44.166, 38.775, 53.167, 23.675 ]\n",
    "Career_Nov_Percentage = [37.14, 41.31, 42.04, 36.9, 41.35, 43.54, 39.97, 37.52, 27.77]\n",
    "Career_Dec_Percentage = [31.03, 37.14, 23.60, 47.51, 38.38, 35.07, 41.47, 38.79, 53.88, 41.50, 32.25]\n",
    "Career_Jan_Percentage = [49.04, 40.22, 43.89, 46.68, 41.08, 39.43, 44.72, 41.78, 44.78, 44.54, 42.46 ]\n",
    "Career_Feb_Percentage = [32.28, 41.95, 44.47, 42.65, 49.0, 45.47, 50.67, 35.12, 40.70, 38.68, 40.61 ]\n",
    "Career_Mar_Percentage = [51.06, 45.63, 41.68, 42.43, 39.56, 53.18, 39.97, 38.27, 32.98, 43.65, 25.0, 38.85 ]\n",
    "Career_Apr_Percentage = [45.90, 50.27, 43.04, 45.61, 49.88, 45.17, 55.84, 43.22, 45.80 ]"
   ]
  },
  {
   "cell_type": "code",
   "execution_count": 40,
   "id": "26c32d3e",
   "metadata": {},
   "outputs": [],
   "source": [
    "# creating a list of years correlating with the Career_Oct_Percenatge list in order to plot \n",
    "\n",
    "Career_Oct_Years = ['09-10', '10-11', '13-14', '14-15', '15-16', '16-17', '17-18', '18-19', '20-21']\n",
    "Career_Nov_Years = ['09-10', '10-11', '13-14', '14-15', '15-16', '16-17', '17-18', '18-19', '20-21']\n",
    "Career_Dec_Years = ['09-10', '10-11', '11-12', '13-14', '14-15', '15-16', '16-17', '17-18', '18-19', '18-19', '20-21']\n",
    "Career_Jan_Years = ['09-10', '10-11', '11-12', '12-13', '13-14', '14-15', '15-16', '16-17', '17-18', '18-19', '20-21']\n",
    "Career_Feb_Years = ['09-10', '10-11', '11-12', '12-13', '13-14', '14-15', '15-16', '16-17', '17-18', '18-19', '20-21']\n",
    "Career_Mar_Years = ['09-10', '10-11', '11-12', '12-13', '13-14', '14-15', '15-16', '16-17', '17-18', '18-19', '19-20','20-21']\n",
    "Career_Apr_Years = ['09-10', '10-11', '12-13', '13-14', '14-15', '15-16', '16-17', '18-19','20-21']"
   ]
  },
  {
   "cell_type": "code",
   "execution_count": 41,
   "id": "c5f1932e",
   "metadata": {
    "scrolled": false
   },
   "outputs": [
    {
     "data": {
      "image/png": "[encoded data removed]",
      "text/plain": [
       "<Figure size 432x288 with 1 Axes>"
      ]
     },
     "metadata": {
      "needs_background": "light"
     },
     "output_type": "display_data"
    },
    {
     "data": {
      "image/png": "[encoded data removed]",
      "text/plain": [
       "<Figure size 432x288 with 1 Axes>"
      ]
     },
     "metadata": {
      "needs_background": "light"
     },
     "output_type": "display_data"
    },
    {
     "data": {
      "image/png": "[encoded data removed]",
      "text/plain": [
       "<Figure size 432x288 with 1 Axes>"
      ]
     },
     "metadata": {
      "needs_background": "light"
     },
     "output_type": "display_data"
    },
    {
     "data": {
      "image/png": "[encoded data removed]",
      "text/plain": [
       "<Figure size 432x288 with 1 Axes>"
      ]
     },
     "metadata": {
      "needs_background": "light"
     },
     "output_type": "display_data"
    },
    {
     "data": {
      "image/png": "[encoded data removed]",
      "text/plain": [
       "<Figure size 432x288 with 1 Axes>"
      ]
     },
     "metadata": {
      "needs_background": "light"
     },
     "output_type": "display_data"
    },
    {
     "data": {
      "image/png": "[encoded data removed]",
      "text/plain": [
       "<Figure size 432x288 with 1 Axes>"
      ]
     },
     "metadata": {
      "needs_background": "light"
     },
     "output_type": "display_data"
    },
    {
     "data": {
      "image/png": "[encoded data removed]",
      "text/plain": [
       "<Figure size 432x288 with 1 Axes>"
      ]
     },
     "metadata": {
      "needs_background": "light"
     },
     "output_type": "display_data"
    }
   ],
   "source": [
    "# creating a bar graph showing Steph's 3 Point Percentage in Oct\n",
    "\n",
    "plt.bar(Career_Oct_Years, Career_Oct_Percentage)\n",
    "plt.xlabel('Years')\n",
    "plt.ylabel('3 Point Percentage')\n",
    "plt.title('3 Point Percentage in October')\n",
    "plt.show()\n",
    "\n",
    "# creating a bar graph showing Steph's 3 Point Percentage in Nov\n",
    "\n",
    "plt.bar(Career_Nov_Years, Career_Nov_Percentage)\n",
    "plt.xlabel('Years')\n",
    "plt.ylabel('3 Point Percentage')\n",
    "plt.title('3 Point Percentage in November')\n",
    "plt.show()\n",
    "\n",
    "# creating a bar graph showing Steph's 3 Point Percentage in Dec\n",
    "\n",
    "plt.bar(Career_Dec_Years, Career_Dec_Percentage)\n",
    "plt.xlabel('Years')\n",
    "plt.ylabel('3 Point Percentage')\n",
    "plt.title('3 Point Percentage in December')\n",
    "plt.xticks(rotation='vertical')\n",
    "plt.show()\n",
    "\n",
    "# creating a bar graph showing Steph's 3 Point Percentage in Jan\n",
    "\n",
    "plt.bar(Career_Jan_Years, Career_Jan_Percentage)\n",
    "plt.xlabel('Years')\n",
    "plt.ylabel('3 Point Percentage')\n",
    "plt.title('3 Point Percentage in January')\n",
    "plt.xticks(rotation='vertical')\n",
    "plt.show()\n",
    "\n",
    "# creating a bar graph showing Steph's 3 Point Percentage in Feb\n",
    "\n",
    "plt.bar(Career_Feb_Years, Career_Feb_Percentage)\n",
    "plt.xlabel('Years')\n",
    "plt.ylabel('3 Point Percentage')\n",
    "plt.title('3 Point Percentage in February')\n",
    "plt.xticks(rotation='vertical')\n",
    "plt.show()\n",
    "\n",
    "# creating a bar graph showing Steph's 3 Point Percentage in Mar\n",
    "\n",
    "plt.bar(Career_Mar_Years, Career_Mar_Percentage)\n",
    "plt.xlabel('Years')\n",
    "plt.ylabel('3 Point Percentage')\n",
    "plt.title('3 Point Percentage in March')\n",
    "plt.xticks(rotation='vertical')\n",
    "plt.show()\n",
    "\n",
    "# creating a bar graph showing Steph's 3 Point Percentage in Apr\n",
    "\n",
    "plt.bar(Career_Apr_Years, Career_Apr_Percentage)\n",
    "plt.xlabel('Years')\n",
    "plt.ylabel('3 Point Percentage')\n",
    "plt.title('3 Point Percentage in April')\n",
    "plt.xticks(rotation='vertical')\n",
    "plt.show()"
   ]
  },
  {
   "cell_type": "code",
   "execution_count": 42,
   "id": "c054023e",
   "metadata": {},
   "outputs": [],
   "source": [
    "# creating a list for the averages each months 3 point percentage\n",
    "monthly_averages = [41.017, 39.83, 38.87, 41.02, 41.71, 43.56, 46.79]\n",
    "\n",
    "# creating a list showing each month of the regualr season\n",
    "months = ['Oct', 'Nov', 'Dec', 'Jan', 'Feb', 'Mar', 'Apr']"
   ]
  },
  {
   "cell_type": "code",
   "execution_count": 51,
   "id": "ca57af14",
   "metadata": {},
   "outputs": [
    {
     "data": {
      "image/png": "[encoded data removed]",
      "text/plain": [
       "<Figure size 720x576 with 1 Axes>"
      ]
     },
     "metadata": {
      "needs_background": "light"
     },
     "output_type": "display_data"
    },
    {
     "data": {
      "text/plain": [
       "<Figure size 432x288 with 0 Axes>"
      ]
     },
     "metadata": {},
     "output_type": "display_data"
    }
   ],
   "source": [
    "# creating a bar graph to show stephs career regular season averages by month\n",
    "\n",
    "plt.figure(figsize=(10,8))\n",
    "plt.bar(months, monthly_averages)\n",
    "plt.bar(months, Current_Percentages, color = 'red', alpha = 0.5)\n",
    "plt.xlabel('Months')\n",
    "plt.ylabel('3 Point Percentage')\n",
    "plt.title('Career vs Current 3 Point Average')\n",
    "plt.xticks(rotation='vertical')\n",
    "plt.legend(['Career Avg', '21-22 Avg'])\n",
    "plt.show()\n",
    "\n",
    "plt.savefig('')"
   ]
  },
  {
   "cell_type": "code",
   "execution_count": 45,
   "id": "b2c50ebb",
   "metadata": {},
   "outputs": [],
   "source": [
    "# using NBA.com 2021-2022 monthly stats to create a list of stephs 3P% (some left blank because currently in the month of \n",
    "# Jan)\n",
    "Current_Percentages = [38.8, 42.3, 37.4, 32.0, 0, 0, 0]"
   ]
  },
  {
   "cell_type": "code",
   "execution_count": null,
   "id": "ee1ed58c",
   "metadata": {},
   "outputs": [],
   "source": []
  }
 ],
 "metadata": {
  "kernelspec": {
   "display_name": "Python 3 (ipykernel)",
   "language": "python",
   "name": "python3"
  },
  "language_info": {
   "codemirror_mode": {
    "name": "ipython",
    "version": 3
   },
   "file_extension": ".py",
   "mimetype": "text/x-python",
   "name": "python",
   "nbconvert_exporter": "python",
   "pygments_lexer": "ipython3",
   "version": "3.9.7"
  }
 },
 "nbformat": 4,
 "nbformat_minor": 5
}
